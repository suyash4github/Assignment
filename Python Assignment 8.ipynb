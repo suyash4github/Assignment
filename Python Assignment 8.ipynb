{
 "cells": [
  {
   "cell_type": "code",
   "execution_count": null,
   "id": "4c4caab6",
   "metadata": {},
   "outputs": [],
   "source": [
    "Is the Python Standard Library included with PyInputPlus?\n",
    "\n",
    "PyInputPlus is not a part of the Python Standard Library, we must install it separately using Pip"
   ]
  },
  {
   "cell_type": "code",
   "execution_count": null,
   "id": "80f1f99f",
   "metadata": {},
   "outputs": [],
   "source": [
    "Why is PyInputPlus commonly imported with import pyinputplus as pypi?\n",
    "\n",
    "so that we can enter a shorter name when calling the module's functions."
   ]
  },
  {
   "cell_type": "code",
   "execution_count": null,
   "id": "2eaeb715",
   "metadata": {},
   "outputs": [],
   "source": [
    "How do you distinguish between inputInt() and inputFloat()?\n",
    "\n",
    "The inputInt() function returns an integer, while the inputFloat() function returns a float value"
   ]
  },
  {
   "cell_type": "code",
   "execution_count": null,
   "id": "15df0d39",
   "metadata": {},
   "outputs": [],
   "source": [
    "Using PyInputPlus, how do you ensure that the user enters a whole number between 0 and 99?\n",
    "\n",
    "using pyip. inputint(min=1, max=100) B."
   ]
  },
  {
   "cell_type": "code",
   "execution_count": null,
   "id": "8bd09b38",
   "metadata": {},
   "outputs": [],
   "source": [
    "What is transferred to the keyword arguments allowRegexes and blockRegexes?\n",
    "\n",
    "keyword arguments take a list of regular expression strings to determine what the PyInputPlus function \n",
    "will accept or reject as valid input."
   ]
  },
  {
   "cell_type": "code",
   "execution_count": null,
   "id": "2b904602",
   "metadata": {},
   "outputs": [],
   "source": [
    "If a blank input is entered three times, what does inputStr(limit=3) do?\n",
    "\n",
    "It will throw RetryLimitException exception"
   ]
  },
  {
   "cell_type": "code",
   "execution_count": null,
   "id": "a68d3cf2",
   "metadata": {},
   "outputs": [],
   "source": [
    "If blank input is entered three times, what does inputStr(limit=3, default='hello') do?\n",
    "\n",
    "Blank values are not allowed"
   ]
  },
  {
   "cell_type": "code",
   "execution_count": null,
   "id": "04a732b8",
   "metadata": {},
   "outputs": [],
   "source": []
  },
  {
   "cell_type": "code",
   "execution_count": null,
   "id": "0f7c7a44",
   "metadata": {},
   "outputs": [],
   "source": []
  },
  {
   "cell_type": "code",
   "execution_count": null,
   "id": "21d5ef9f",
   "metadata": {},
   "outputs": [],
   "source": []
  },
  {
   "cell_type": "code",
   "execution_count": null,
   "id": "334e02cc",
   "metadata": {},
   "outputs": [],
   "source": []
  },
  {
   "cell_type": "code",
   "execution_count": null,
   "id": "af868cc2",
   "metadata": {},
   "outputs": [],
   "source": []
  },
  {
   "cell_type": "code",
   "execution_count": null,
   "id": "e4dfa7e7",
   "metadata": {},
   "outputs": [],
   "source": []
  },
  {
   "cell_type": "code",
   "execution_count": null,
   "id": "970ac917",
   "metadata": {},
   "outputs": [],
   "source": []
  },
  {
   "cell_type": "code",
   "execution_count": null,
   "id": "3e706011",
   "metadata": {},
   "outputs": [],
   "source": []
  },
  {
   "cell_type": "code",
   "execution_count": null,
   "id": "473a20aa",
   "metadata": {},
   "outputs": [],
   "source": []
  },
  {
   "cell_type": "code",
   "execution_count": null,
   "id": "ddef3c60",
   "metadata": {},
   "outputs": [],
   "source": []
  },
  {
   "cell_type": "code",
   "execution_count": null,
   "id": "001b7dcf",
   "metadata": {},
   "outputs": [],
   "source": []
  },
  {
   "cell_type": "code",
   "execution_count": null,
   "id": "37e041be",
   "metadata": {},
   "outputs": [],
   "source": []
  },
  {
   "cell_type": "code",
   "execution_count": null,
   "id": "fa6a3ab8",
   "metadata": {},
   "outputs": [],
   "source": []
  },
  {
   "cell_type": "code",
   "execution_count": null,
   "id": "cf2f0870",
   "metadata": {},
   "outputs": [],
   "source": []
  },
  {
   "cell_type": "code",
   "execution_count": null,
   "id": "06d7be71",
   "metadata": {},
   "outputs": [],
   "source": []
  },
  {
   "cell_type": "code",
   "execution_count": null,
   "id": "604c9119",
   "metadata": {},
   "outputs": [],
   "source": []
  },
  {
   "cell_type": "code",
   "execution_count": null,
   "id": "8215a789",
   "metadata": {},
   "outputs": [],
   "source": []
  }
 ],
 "metadata": {
  "kernelspec": {
   "display_name": "Python 3 (ipykernel)",
   "language": "python",
   "name": "python3"
  },
  "language_info": {
   "codemirror_mode": {
    "name": "ipython",
    "version": 3
   },
   "file_extension": ".py",
   "mimetype": "text/x-python",
   "name": "python",
   "nbconvert_exporter": "python",
   "pygments_lexer": "ipython3",
   "version": "3.10.2"
  }
 },
 "nbformat": 4,
 "nbformat_minor": 5
}

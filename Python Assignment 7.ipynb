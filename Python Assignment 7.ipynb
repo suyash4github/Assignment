{
 "cells": [
  {
   "cell_type": "code",
   "execution_count": null,
   "id": "c7b2a67d",
   "metadata": {},
   "outputs": [],
   "source": [
    "What is the name of the feature responsible for generating Regex objects?\n",
    "\n",
    "The re.compile() function returns Regex object"
   ]
  },
  {
   "cell_type": "code",
   "execution_count": null,
   "id": "84c4758a",
   "metadata": {},
   "outputs": [],
   "source": [
    "Why do raw strings often appear in Regex objects?\n",
    "\n",
    "Raw strings are used so that backslashes do not have to be escaped"
   ]
  },
  {
   "cell_type": "code",
   "execution_count": null,
   "id": "05f4aa59",
   "metadata": {},
   "outputs": [],
   "source": [
    "What is the return value of the search() method?\n",
    "\n",
    "The search() method returns Match objects"
   ]
  },
  {
   "cell_type": "code",
   "execution_count": null,
   "id": "ab8ed3a4",
   "metadata": {},
   "outputs": [],
   "source": [
    "From a Match item, how do you get the actual strings that match the pattern?\n",
    "\n",
    "The group() method returns strings of the matched text."
   ]
  },
  {
   "cell_type": "code",
   "execution_count": null,
   "id": "7be71273",
   "metadata": {},
   "outputs": [],
   "source": [
    "In the regex which created from the r'(\\d\\d\\d)-(\\d\\d\\d-\\d\\d\\d\\d)', what does group zero cover? Group 2? Group 1?\n",
    "Group 0 is the entire match, group 1 covers the first set of parentheses, and group 2 covers the second set of parentheses"
   ]
  },
  {
   "cell_type": "code",
   "execution_count": null,
   "id": "21ecafb4",
   "metadata": {},
   "outputs": [],
   "source": [
    "In standard expression syntax, parentheses and intervals have distinct meanings. How can you tell a regex that \n",
    "you want it to fit real parentheses and periods?\n",
    "\n",
    "Periods and parentheses can be escaped with a backslash: \\., \\(, and \\)."
   ]
  },
  {
   "cell_type": "code",
   "execution_count": null,
   "id": "6ec590f9",
   "metadata": {},
   "outputs": [],
   "source": [
    "The findall() method returns a string list or a list of string tuples. What causes it to return one of the two options?\n",
    "\n",
    "If the regex has no groups, a list of strings is returned. If the regex has groups, a list of tuples of strings is returned."
   ]
  },
  {
   "cell_type": "code",
   "execution_count": null,
   "id": "1f04016b",
   "metadata": {},
   "outputs": [],
   "source": [
    "In standard expressions, what does the | character mean?\n",
    "or"
   ]
  },
  {
   "cell_type": "code",
   "execution_count": null,
   "id": "ab35ed53",
   "metadata": {},
   "outputs": [],
   "source": [
    "In regular expressions, what does the character stand for?\n",
    "not mentioned"
   ]
  },
  {
   "cell_type": "code",
   "execution_count": null,
   "id": "0fe78826",
   "metadata": {},
   "outputs": [],
   "source": [
    ".In regular expressions, what is the difference between the + and * characters?\n",
    "The + matches one or more. The * matches zero or more."
   ]
  },
  {
   "cell_type": "code",
   "execution_count": null,
   "id": "0cb9ad55",
   "metadata": {},
   "outputs": [],
   "source": [
    "What is the difference between {4} and {4,5} in regular expression?\n",
    "The {4} matches exactly three instances of the preceding group. The {4,5} matches between four and five instances."
   ]
  },
  {
   "cell_type": "code",
   "execution_count": null,
   "id": "4de615ed",
   "metadata": {},
   "outputs": [],
   "source": [
    "What do you mean by the \\d, \\w, and \\s shorthand character classes signify in regular expressions?\n",
    "\n",
    "The \\d, \\w, and \\s shorthand character classes match a single digit, word, or space character, respectively."
   ]
  },
  {
   "cell_type": "code",
   "execution_count": null,
   "id": "6f743f92",
   "metadata": {},
   "outputs": [],
   "source": [
    "What do means by \\D, \\W, and \\S shorthand character classes signify in regular expressions?\n",
    "The \\D, \\W, and \\S shorthand character classes match a single character that is not a digit, word, or space character, \n",
    "respectively."
   ]
  },
  {
   "cell_type": "code",
   "execution_count": null,
   "id": "0c2a0ccb",
   "metadata": {},
   "outputs": [],
   "source": [
    "What is the difference between .*? and .*?\n",
    "The .* performs a greedy match, and the .*? performs a nongreedy match."
   ]
  },
  {
   "cell_type": "code",
   "execution_count": null,
   "id": "49ad07bf",
   "metadata": {},
   "outputs": [],
   "source": [
    "What is the syntax for matching both numbers and lowercase letters with a character class?\n",
    " [0-9a-z] or [a-z0-9]"
   ]
  },
  {
   "cell_type": "code",
   "execution_count": null,
   "id": "2ab15fcb",
   "metadata": {},
   "outputs": [],
   "source": [
    "What is the procedure for making a normal expression in regax case insensitive?\n",
    "\n",
    "Passing re.I or re.IGNORECASE as the second argument to re.compile() will make the matching case insensitive."
   ]
  },
  {
   "cell_type": "code",
   "execution_count": null,
   "id": "47e5d5a7",
   "metadata": {},
   "outputs": [],
   "source": [
    "What does the . character normally match? What does it match if re.DOTALL is passed as 2nd argument in re.compile()?\n",
    "\n",
    "The . character normally matches any character except the newline character. If re.DOTALL is passed as the second argument \n",
    "to re.compile(), then the dot will also match newline characters."
   ]
  },
  {
   "cell_type": "code",
   "execution_count": null,
   "id": "bac1e337",
   "metadata": {},
   "outputs": [],
   "source": [
    "If numReg = re.compile(r'\\d+'), what will numRegex.sub('X', '11 drummers, 10 pipers, five rings, 4 hen') return?\n",
    "\n",
    "'X drummers, X pipers, five rings, X hens'\n",
    "\n"
   ]
  },
  {
   "cell_type": "code",
   "execution_count": null,
   "id": "5c2c5eae",
   "metadata": {},
   "outputs": [],
   "source": [
    "What does passing re.VERBOSE as the 2nd argument to re.compile() allow to do?\n",
    "\n",
    "The re.VERBOSE argument allows you to add whitespace and comments to the string passed to re.compile()"
   ]
  },
  {
   "cell_type": "code",
   "execution_count": null,
   "id": "b9f48b2c",
   "metadata": {},
   "outputs": [],
   "source": [
    "How would you write a regex that match a number with comma for every three digits? It must match the given following:\n",
    "'42'\n",
    "'1,234'\n",
    "'6,368,745'\n",
    "\n",
    "e.compile(r'^\\d{1,3}(,{3})*$') will create this regex, but other regex strings can produce a similar regular expression."
   ]
  },
  {
   "cell_type": "code",
   "execution_count": null,
   "id": "7090c20a",
   "metadata": {},
   "outputs": [],
   "source": []
  },
  {
   "cell_type": "code",
   "execution_count": null,
   "id": "06e75c59",
   "metadata": {},
   "outputs": [],
   "source": []
  },
  {
   "cell_type": "code",
   "execution_count": null,
   "id": "f5b10bd9",
   "metadata": {},
   "outputs": [],
   "source": []
  }
 ],
 "metadata": {
  "kernelspec": {
   "display_name": "Python 3 (ipykernel)",
   "language": "python",
   "name": "python3"
  },
  "language_info": {
   "codemirror_mode": {
    "name": "ipython",
    "version": 3
   },
   "file_extension": ".py",
   "mimetype": "text/x-python",
   "name": "python",
   "nbconvert_exporter": "python",
   "pygments_lexer": "ipython3",
   "version": "3.10.2"
  }
 },
 "nbformat": 4,
 "nbformat_minor": 5
}

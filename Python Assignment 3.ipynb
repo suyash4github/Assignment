{
 "cells": [
  {
   "cell_type": "markdown",
   "id": "da8814e3",
   "metadata": {},
   "source": [
    "1.Why are functions advantageous to have in your programs\n",
    "\n",
    "we can avoid rewriting the same logic or code again and again in a program. In a single Program, we can call Python \n",
    "functions anywhere and also call multiple times."
   ]
  },
  {
   "cell_type": "markdown",
   "id": "c9f61302",
   "metadata": {},
   "source": [
    "2.When does the code in a function run: when it's specified or when it's called?\n",
    "    \n",
    "when the function called, not when it is specified."
   ]
  },
  {
   "cell_type": "markdown",
   "id": "8beae644",
   "metadata": {},
   "source": [
    "3.What statement creates a function?\n",
    "\n",
    "def func():\n",
    "    print('Hi')\n",
    "\n",
    "func()"
   ]
  },
  {
   "cell_type": "markdown",
   "id": "f4aa4a2a",
   "metadata": {},
   "source": [
    "4.What is the difference between a function and a function call?\n",
    "\n",
    "A function is a block of code that does a particular operation and returns a result. It usually accepts inputs \n",
    "as parameters and returns a result. The parameters are not mandatory. A function call is the code used to pass\n",
    "control to a function."
   ]
  },
  {
   "cell_type": "markdown",
   "id": "25ec83ca",
   "metadata": {},
   "source": [
    "5.How many global scopes are there in a Python program? How many local scopes?\n",
    "\n",
    "There's only one global Python scope per program execution. This scope remains in existence until the program terminates\n",
    "local scope depends on user."
   ]
  },
  {
   "cell_type": "markdown",
   "id": "59fdfb46",
   "metadata": {},
   "source": [
    "6.What happens to variables in a local scope when the function call returns?\n",
    "\n",
    "Each call of the function creates new local variables, and their lifetimes expire when the function returns to the caller."
   ]
  },
  {
   "cell_type": "markdown",
   "id": "ffd84278",
   "metadata": {},
   "source": [
    "7. What is the concept of a return value? Is it possible to have a return value in an expression?\n",
    "\n",
    "Return gives the same data type as it was assigned and return() statement can not be used outside the function."
   ]
  },
  {
   "cell_type": "markdown",
   "id": "827872e0",
   "metadata": {},
   "source": [
    "8. If a function does not have a return statement, what is the return value of a call to that function?\n",
    "If no return statement appears in a function definition, control automatically returns to the calling function \n",
    "after the last statement of the called function is executed."
   ]
  },
  {
   "cell_type": "markdown",
   "id": "5d17d156",
   "metadata": {},
   "source": [
    "9. How do you make a function variable refer to the global variable?\n",
    "By using global keyword."
   ]
  },
  {
   "cell_type": "markdown",
   "id": "4c1f6e9c",
   "metadata": {},
   "source": [
    "10. What is the data type of None?\n",
    "None type."
   ]
  },
  {
   "cell_type": "markdown",
   "id": "5f6b7142",
   "metadata": {},
   "source": [
    "11. What does the sentence import areallyourpetsnamederic do?\n",
    "That import statement imports a module named areallyourpetsnamederic."
   ]
  },
  {
   "cell_type": "markdown",
   "id": "9afb0861",
   "metadata": {},
   "source": [
    "12. If you had a bacon() feature in a spam module, what would you call it after importing spam?\n",
    "spam.bacon()"
   ]
  },
  {
   "cell_type": "markdown",
   "id": "647ec6b3",
   "metadata": {},
   "source": [
    "13. What can you do to save a programme from crashing if it encounters an error?\n",
    "we can exception handling."
   ]
  },
  {
   "cell_type": "markdown",
   "id": "3bd5d5c6",
   "metadata": {},
   "source": [
    "14. What is the purpose of the try clause? What is the purpose of the except clause?\n",
    "\n",
    "The try block lets you test a block of code for errors. The except block lets you handle the error. "
   ]
  },
  {
   "cell_type": "code",
   "execution_count": null,
   "id": "6318e48b",
   "metadata": {},
   "outputs": [],
   "source": []
  },
  {
   "cell_type": "code",
   "execution_count": null,
   "id": "f038f4be",
   "metadata": {},
   "outputs": [],
   "source": []
  },
  {
   "cell_type": "code",
   "execution_count": null,
   "id": "d5afc442",
   "metadata": {},
   "outputs": [],
   "source": []
  },
  {
   "cell_type": "code",
   "execution_count": null,
   "id": "87071338",
   "metadata": {},
   "outputs": [],
   "source": []
  },
  {
   "cell_type": "code",
   "execution_count": null,
   "id": "ce4e1024",
   "metadata": {},
   "outputs": [],
   "source": []
  },
  {
   "cell_type": "code",
   "execution_count": null,
   "id": "53ecea75",
   "metadata": {},
   "outputs": [],
   "source": []
  },
  {
   "cell_type": "code",
   "execution_count": null,
   "id": "5f8b49fd",
   "metadata": {},
   "outputs": [],
   "source": []
  },
  {
   "cell_type": "code",
   "execution_count": null,
   "id": "7423afe7",
   "metadata": {},
   "outputs": [],
   "source": []
  },
  {
   "cell_type": "code",
   "execution_count": null,
   "id": "098c9fc6",
   "metadata": {},
   "outputs": [],
   "source": []
  },
  {
   "cell_type": "code",
   "execution_count": null,
   "id": "963133d9",
   "metadata": {},
   "outputs": [],
   "source": []
  },
  {
   "cell_type": "code",
   "execution_count": null,
   "id": "37230601",
   "metadata": {},
   "outputs": [],
   "source": []
  },
  {
   "cell_type": "code",
   "execution_count": null,
   "id": "ac7a7177",
   "metadata": {},
   "outputs": [],
   "source": []
  },
  {
   "cell_type": "code",
   "execution_count": null,
   "id": "6b349abe",
   "metadata": {},
   "outputs": [],
   "source": []
  }
 ],
 "metadata": {
  "kernelspec": {
   "display_name": "Python 3 (ipykernel)",
   "language": "python",
   "name": "python3"
  },
  "language_info": {
   "codemirror_mode": {
    "name": "ipython",
    "version": 3
   },
   "file_extension": ".py",
   "mimetype": "text/x-python",
   "name": "python",
   "nbconvert_exporter": "python",
   "pygments_lexer": "ipython3",
   "version": "3.10.2"
  }
 },
 "nbformat": 4,
 "nbformat_minor": 5
}

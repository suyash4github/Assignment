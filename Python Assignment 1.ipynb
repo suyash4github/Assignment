{
 "cells": [
  {
   "cell_type": "code",
   "execution_count": null,
   "id": "e654473e",
   "metadata": {},
   "outputs": [],
   "source": [
    "1. * - multiplication operator\n",
    "   'hello'- string\n",
    "    -87.8 - float\n",
    "    -,/,+ = mathmatical operator"
   ]
  },
  {
   "cell_type": "code",
   "execution_count": null,
   "id": "95affb6f",
   "metadata": {},
   "outputs": [],
   "source": [
    "Q2 What is the difference between string and variable?\n",
    "\n",
    "string is type of dataype e.g 'hello'\n",
    "a= 'hello' here in this example a is variable and datatype of a is string\n"
   ]
  },
  {
   "cell_type": "code",
   "execution_count": null,
   "id": "368de27a",
   "metadata": {},
   "outputs": [],
   "source": [
    "Q3 .Describe three different data types.\n",
    "\n",
    "Different types of datatype.\n",
    "int, string, float, boolean\n",
    "int- 2,3\n",
    "string - 'hello'\n",
    "float - 2.3\n",
    "bool - True"
   ]
  },
  {
   "cell_type": "code",
   "execution_count": null,
   "id": "62b1bc4b",
   "metadata": {},
   "outputs": [],
   "source": [
    "Q4 What is an expression made up of? What do all expressions do?\n",
    "\n",
    "A combination of operators is called an expression.\n",
    "e.g y=y+2."
   ]
  },
  {
   "cell_type": "code",
   "execution_count": null,
   "id": "4eb93555",
   "metadata": {},
   "outputs": [],
   "source": [
    "Q5 This assignment statements, like spam = 10. What is the difference between an\n",
    "expression and a statement?\n",
    "Expressions can be assigned or used as operands,while statements can only be declared."
   ]
  },
  {
   "cell_type": "code",
   "execution_count": null,
   "id": "dfc8c1ab",
   "metadata": {},
   "outputs": [],
   "source": [
    "Q6. After running the following code, what does the variable bacon contain?\n",
    "bacon = 22\n",
    "bacon + 1\n",
    "\n",
    "ans = 23"
   ]
  },
  {
   "cell_type": "code",
   "execution_count": null,
   "id": "827076fe",
   "metadata": {},
   "outputs": [],
   "source": [
    "Q7. What should the values of the following two terms be?\n",
    "'spam' + 'spamspam' - 'spamspamspam'\n",
    "'spam' * 3 - 'spamspamspam'\n",
    "\n"
   ]
  },
  {
   "cell_type": "code",
   "execution_count": null,
   "id": "3e425164",
   "metadata": {},
   "outputs": [],
   "source": [
    "Q8. Why is eggs a valid variable name while 100 is invalid?\n",
    "variable name cannot start with no."
   ]
  },
  {
   "cell_type": "code",
   "execution_count": null,
   "id": "d91e718f",
   "metadata": {},
   "outputs": [],
   "source": [
    "Q9.What three functions can be used to get the integer, floating-point number, or string\n",
    "version of a value?\n",
    "int(), str(), float()"
   ]
  },
  {
   "cell_type": "code",
   "execution_count": null,
   "id": "b8dc0f27",
   "metadata": {},
   "outputs": [],
   "source": [
    "10. Why does this expression cause an error? How can you fix it?\n",
    "'I have eaten' + 99 +  'burritos'\n",
    "\n",
    "99 is int and remaining part is str, we can not add int and str\n",
    "so convert 99 into str and then add."
   ]
  },
  {
   "cell_type": "code",
   "execution_count": null,
   "id": "22add31b",
   "metadata": {},
   "outputs": [],
   "source": []
  }
 ],
 "metadata": {
  "kernelspec": {
   "display_name": "Python 3 (ipykernel)",
   "language": "python",
   "name": "python3"
  },
  "language_info": {
   "codemirror_mode": {
    "name": "ipython",
    "version": 3
   },
   "file_extension": ".py",
   "mimetype": "text/x-python",
   "name": "python",
   "nbconvert_exporter": "python",
   "pygments_lexer": "ipython3",
   "version": "3.10.2"
  }
 },
 "nbformat": 4,
 "nbformat_minor": 5
}

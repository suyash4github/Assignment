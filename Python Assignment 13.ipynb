{
 "cells": [
  {
   "cell_type": "code",
   "execution_count": null,
   "id": "187ade60",
   "metadata": {},
   "outputs": [],
   "source": [
    "What advantages do Excel spreadsheets have over CSV spreadsheets?\n",
    "\n",
    "Excel (XLS and XLSX) file formats are better for storing more complex data"
   ]
  },
  {
   "cell_type": "code",
   "execution_count": null,
   "id": "308cc0e5",
   "metadata": {},
   "outputs": [],
   "source": [
    "What do you pass to csv.reader() and csv.writer() to create reader and writer objects?\n",
    "\n",
    "file that is opened with 'r' and 'w' mode."
   ]
  },
  {
   "cell_type": "code",
   "execution_count": null,
   "id": "6dbf0072",
   "metadata": {},
   "outputs": [],
   "source": [
    "What modes do File objects for reader and writer objects need to be opened in?\n",
    "\n",
    "for reader 'r' and for writer 'w'"
   ]
  },
  {
   "cell_type": "code",
   "execution_count": null,
   "id": "eb306417",
   "metadata": {},
   "outputs": [],
   "source": [
    "What method takes a list argument and writes it to a CSV file?\n",
    "\n",
    "we use file handling in python to read the data of a list and then write it into a CSV file"
   ]
  },
  {
   "cell_type": "code",
   "execution_count": null,
   "id": "4af3f9a2",
   "metadata": {},
   "outputs": [],
   "source": [
    "What do the keyword arguments delimiter and line terminator do?\n",
    "\n",
    "This changes the delimiter and line terminator characters in your file.\n",
    "The delimiter is the character that appears between cells on a row. By default, the delimiter for a CSV file is a comma."
   ]
  },
  {
   "cell_type": "code",
   "execution_count": null,
   "id": "4c0a45a5",
   "metadata": {},
   "outputs": [],
   "source": [
    "What function takes a string of JSON data and returns a Python data structure?\n",
    "\n",
    "loads()"
   ]
  },
  {
   "cell_type": "code",
   "execution_count": null,
   "id": "6aec16ed",
   "metadata": {},
   "outputs": [],
   "source": [
    "What function takes a Python data structure and returns a string of JSON data?\n",
    "\n",
    "json.dumps()"
   ]
  },
  {
   "cell_type": "code",
   "execution_count": null,
   "id": "9db82049",
   "metadata": {},
   "outputs": [],
   "source": []
  },
  {
   "cell_type": "code",
   "execution_count": null,
   "id": "e96b4a96",
   "metadata": {},
   "outputs": [],
   "source": []
  },
  {
   "cell_type": "code",
   "execution_count": null,
   "id": "bcb20057",
   "metadata": {},
   "outputs": [],
   "source": []
  },
  {
   "cell_type": "code",
   "execution_count": null,
   "id": "255944fd",
   "metadata": {},
   "outputs": [],
   "source": []
  },
  {
   "cell_type": "code",
   "execution_count": null,
   "id": "733fea01",
   "metadata": {},
   "outputs": [],
   "source": []
  },
  {
   "cell_type": "code",
   "execution_count": null,
   "id": "a00c7acd",
   "metadata": {},
   "outputs": [],
   "source": []
  },
  {
   "cell_type": "code",
   "execution_count": null,
   "id": "b0ed47b9",
   "metadata": {},
   "outputs": [],
   "source": []
  },
  {
   "cell_type": "code",
   "execution_count": null,
   "id": "b9b29db6",
   "metadata": {},
   "outputs": [],
   "source": []
  },
  {
   "cell_type": "code",
   "execution_count": null,
   "id": "6e7abfea",
   "metadata": {},
   "outputs": [],
   "source": []
  },
  {
   "cell_type": "code",
   "execution_count": null,
   "id": "ce30f259",
   "metadata": {},
   "outputs": [],
   "source": []
  },
  {
   "cell_type": "code",
   "execution_count": null,
   "id": "8f7a5f97",
   "metadata": {},
   "outputs": [],
   "source": []
  }
 ],
 "metadata": {
  "kernelspec": {
   "display_name": "Python 3 (ipykernel)",
   "language": "python",
   "name": "python3"
  },
  "language_info": {
   "codemirror_mode": {
    "name": "ipython",
    "version": 3
   },
   "file_extension": ".py",
   "mimetype": "text/x-python",
   "name": "python",
   "nbconvert_exporter": "python",
   "pygments_lexer": "ipython3",
   "version": "3.10.2"
  }
 },
 "nbformat": 4,
 "nbformat_minor": 5
}

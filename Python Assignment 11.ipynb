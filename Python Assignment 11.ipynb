{
 "cells": [
  {
   "cell_type": "code",
   "execution_count": null,
   "id": "143b3a32",
   "metadata": {},
   "outputs": [],
   "source": [
    "Create an assert statement that throws an AssertionError if the variable spam is a negative integer.\n",
    "\n",
    "\n",
    "\n",
    "assert(spam >= 0, 'The spam variable is negatice integer. ')"
   ]
  },
  {
   "cell_type": "code",
   "execution_count": null,
   "id": "9ff3ad6b",
   "metadata": {},
   "outputs": [],
   "source": [
    "Write an assert statement that triggers an AssertionError if the variables eggs and bacon contain strings that\n",
    "are the same as each other, even if their cases are different (that is, 'hello' and 'hello' are considered the same,\n",
    "and 'goodbye' and 'GOODbye' are also considered the same).\n",
    "\n",
    "\n",
    "assert eggs.lower() != bacon.lower()"
   ]
  },
  {
   "cell_type": "code",
   "execution_count": null,
   "id": "ba1d5cf8",
   "metadata": {},
   "outputs": [],
   "source": [
    "Create an assert statement that throws an AssertionError every time.\n",
    "\n",
    "\n",
    "x = 1\n",
    "y = 0\n",
    "assert y != 0, \"Invalid Operation\" \n",
    "print(x / y)"
   ]
  },
  {
   "cell_type": "code",
   "execution_count": null,
   "id": "76d9fb44",
   "metadata": {},
   "outputs": [],
   "source": [
    "What are the two lines that must be present in your software in order to call logging.debug()?\n",
    "\n",
    "import logging \n",
    "logging.basicConfig(level=logging.DEBUG, format=' %(asctime)s - %(levelname)s - %(message)s')"
   ]
  },
  {
   "cell_type": "code",
   "execution_count": null,
   "id": "251e8a2b",
   "metadata": {},
   "outputs": [],
   "source": [
    "What are the two lines that your program must have in order to have logging.debug() send a \n",
    "logging message to a file named programLog.txt?\n",
    "\n",
    "import logging \n",
    "logging.basicConfig(filename='programLog.txt', level=logging.DEBUG, format=' %(asctime)s - %(levelname)s - %(message)s')"
   ]
  },
  {
   "cell_type": "code",
   "execution_count": null,
   "id": "5e1e4902",
   "metadata": {},
   "outputs": [],
   "source": [
    "What are the five levels of logging?\n",
    "\n",
    "DEBUG\n",
    "INFO\n",
    "WARNING\n",
    "ERROR\n",
    "CRITICAL"
   ]
  },
  {
   "cell_type": "code",
   "execution_count": null,
   "id": "4cdd2dba",
   "metadata": {},
   "outputs": [],
   "source": [
    "What line of code would you add to your software to disable all logging messages?\n",
    "\n",
    "logging.disable(logging.CRITICAL)"
   ]
  },
  {
   "cell_type": "code",
   "execution_count": null,
   "id": "60cd5cbf",
   "metadata": {},
   "outputs": [],
   "source": [
    "Why is using logging messages better than using print() to display the same message?\n",
    "\n",
    "You can disable logging messages without removing the logging function calls. You can selectively disable lower-level\n",
    "logging messages. You can create logging messages. Logging messages provides a timestamp."
   ]
  },
  {
   "cell_type": "code",
   "execution_count": null,
   "id": "a9ff2720",
   "metadata": {},
   "outputs": [],
   "source": [
    "What are the differences between the Step Over, Step In, and Step Out buttons in the debugger?\n",
    "\n",
    "The Step button will move the debugger into a function call. The Over button will quickly execute the function call\n",
    "without stepping into it. The Out button will quickly execute the rest of the code until it steps out of the function it\n",
    "currently is in."
   ]
  },
  {
   "cell_type": "code",
   "execution_count": null,
   "id": "ef31e8eb",
   "metadata": {},
   "outputs": [],
   "source": [
    "After you click Continue, when will the debugger stop ?\n",
    "\n",
    "click Go, the debugger will stop when it has reached the end of the program or a line with a breakpoint."
   ]
  },
  {
   "cell_type": "code",
   "execution_count": null,
   "id": "ddf922a7",
   "metadata": {},
   "outputs": [],
   "source": [
    "What is the concept of a breakpoint?\n",
    "\n",
    "breakpoint is a setting on a line of code that causes the debugger to pause when the program execution reaches the line"
   ]
  },
  {
   "cell_type": "code",
   "execution_count": null,
   "id": "736335b9",
   "metadata": {},
   "outputs": [],
   "source": []
  },
  {
   "cell_type": "code",
   "execution_count": null,
   "id": "e8d1671a",
   "metadata": {},
   "outputs": [],
   "source": []
  },
  {
   "cell_type": "code",
   "execution_count": null,
   "id": "284711cc",
   "metadata": {},
   "outputs": [],
   "source": []
  },
  {
   "cell_type": "code",
   "execution_count": null,
   "id": "6e3a5737",
   "metadata": {},
   "outputs": [],
   "source": []
  },
  {
   "cell_type": "code",
   "execution_count": null,
   "id": "ffe719b8",
   "metadata": {},
   "outputs": [],
   "source": []
  },
  {
   "cell_type": "code",
   "execution_count": null,
   "id": "427f66ac",
   "metadata": {},
   "outputs": [],
   "source": []
  },
  {
   "cell_type": "code",
   "execution_count": null,
   "id": "2f048032",
   "metadata": {},
   "outputs": [],
   "source": []
  },
  {
   "cell_type": "code",
   "execution_count": null,
   "id": "5e334c36",
   "metadata": {},
   "outputs": [],
   "source": []
  },
  {
   "cell_type": "code",
   "execution_count": null,
   "id": "f96c747f",
   "metadata": {},
   "outputs": [],
   "source": []
  },
  {
   "cell_type": "code",
   "execution_count": null,
   "id": "1bf1e610",
   "metadata": {},
   "outputs": [],
   "source": []
  }
 ],
 "metadata": {
  "kernelspec": {
   "display_name": "Python 3 (ipykernel)",
   "language": "python",
   "name": "python3"
  },
  "language_info": {
   "codemirror_mode": {
    "name": "ipython",
    "version": 3
   },
   "file_extension": ".py",
   "mimetype": "text/x-python",
   "name": "python",
   "nbconvert_exporter": "python",
   "pygments_lexer": "ipython3",
   "version": "3.10.2"
  }
 },
 "nbformat": 4,
 "nbformat_minor": 5
}

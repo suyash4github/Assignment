{
 "cells": [
  {
   "cell_type": "code",
   "execution_count": null,
   "id": "06e29613",
   "metadata": {},
   "outputs": [],
   "source": [
    "1.\tWrite a Python program to Extract Unique values dictionary values?"
   ]
  },
  {
   "cell_type": "code",
   "execution_count": 1,
   "id": "b7d07cea",
   "metadata": {},
   "outputs": [
    {
     "name": "stdout",
     "output_type": "stream",
     "text": [
      "The unique values list is : [1, 2, 3, 4, 5, 6, 7, 8, 9, 10]\n"
     ]
    }
   ],
   "source": [
    "dict1 = {'abc': [1, 7, 8, 9],\n",
    "             'ed': [2, 5, 7, 8],\n",
    "             'fg': [3, 6, 10, 9],\n",
    "             'hi': [4, 7, 5]}\n",
    " \n",
    "r = list(sorted({ele for val in dict1.values() for ele in val}))\n",
    "print(\"The unique values list is : \" + str(r))"
   ]
  },
  {
   "cell_type": "code",
   "execution_count": null,
   "id": "4aa9a683",
   "metadata": {},
   "outputs": [],
   "source": [
    "2.\tWrite a Python program to find the sum of all items in a dictionary?"
   ]
  },
  {
   "cell_type": "code",
   "execution_count": 2,
   "id": "04fb4242",
   "metadata": {},
   "outputs": [
    {
     "name": "stdout",
     "output_type": "stream",
     "text": [
      "Sum : 60\n"
     ]
    }
   ],
   "source": [
    "def Sum(Dict):\n",
    " \n",
    "    list = []\n",
    "    for i in Dict:\n",
    "        list.append(Dict[i])\n",
    "    final = sum(list)\n",
    " \n",
    "    return final\n",
    " \n",
    "dict = {'a': 10, 'b': 20, 'c': 30}\n",
    "print(\"Sum :\", Sum(dict))"
   ]
  },
  {
   "cell_type": "code",
   "execution_count": null,
   "id": "00c1b052",
   "metadata": {},
   "outputs": [],
   "source": [
    "3.\tWrite a Python program to Merging two Dictionaries?"
   ]
  },
  {
   "cell_type": "code",
   "execution_count": 3,
   "id": "e76f0220",
   "metadata": {},
   "outputs": [
    {
     "name": "stdout",
     "output_type": "stream",
     "text": [
      "{1: 'aa', 2: 'cc', 4: 'dd'}\n"
     ]
    }
   ],
   "source": [
    "dict_1 = {1: 'aa', 2: 'bb'}\n",
    "dict_2 = {2: 'cc', 4: 'dd'}\n",
    "\n",
    "print({**dict_1, **dict_2})"
   ]
  },
  {
   "cell_type": "code",
   "execution_count": null,
   "id": "c21a4cef",
   "metadata": {},
   "outputs": [],
   "source": [
    "4.\tWrite a Python program to convert key-values list to flat dictionary?"
   ]
  },
  {
   "cell_type": "code",
   "execution_count": 11,
   "id": "a9e75900",
   "metadata": {},
   "outputs": [
    {
     "name": "stdout",
     "output_type": "stream",
     "text": [
      "Flattened dictionary: {1: 'Jan', 2: 'Feb', 3: 'March'}\n"
     ]
    }
   ],
   "source": [
    "dict = {'month': [1, 2, 3], 'name': ['Jan', 'Feb', 'March']}\n",
    "r = {dict['month'][i]: dict['name'][i] for i in range(len(dict['month']))}\n",
    "print(\"Flattened dictionary:\", r)"
   ]
  },
  {
   "cell_type": "code",
   "execution_count": null,
   "id": "4fdccb7c",
   "metadata": {},
   "outputs": [],
   "source": [
    "5.\tWrite a Python program to insertion at the beginning in OrderedDict?"
   ]
  },
  {
   "cell_type": "code",
   "execution_count": 12,
   "id": "15b85b4a",
   "metadata": {},
   "outputs": [
    {
     "name": "stdout",
     "output_type": "stream",
     "text": [
      "Resultant Dictionary : OrderedDict([('fsds', '3'), ('ineuron', '1'), ('fullstackdatascience', '2')])\n"
     ]
    }
   ],
   "source": [
    "from collections import OrderedDict\n",
    " \n",
    "iniordered_dict = OrderedDict([('ineuron', '1'), ('fullstackdatascience', '2')])\n",
    " \n",
    "\n",
    "iniordered_dict.update({'fsds':'3'})\n",
    "iniordered_dict.move_to_end('fsds', last = False)\n",
    " \n",
    "print (\"Resultant Dictionary : \"+str(iniordered_dict))"
   ]
  },
  {
   "cell_type": "code",
   "execution_count": null,
   "id": "1f332c81",
   "metadata": {},
   "outputs": [],
   "source": [
    "6.\tWrite a Python program to check order of character in string using OrderedDict()?"
   ]
  },
  {
   "cell_type": "code",
   "execution_count": 13,
   "id": "15bc573f",
   "metadata": {},
   "outputs": [
    {
     "name": "stdout",
     "output_type": "stream",
     "text": [
      "true\n"
     ]
    }
   ],
   "source": [
    "from collections import OrderedDict \n",
    "  \n",
    "def checkOrder(input, pattern): \n",
    "    \n",
    "    dict = OrderedDict.fromkeys(input) \n",
    "    ptrlen = 0\n",
    "    for key,value in dict.items(): \n",
    "        if (key == pattern[ptrlen]): \n",
    "            ptrlen = ptrlen + 1\n",
    "          \n",
    "        if (ptrlen == (len(pattern))): \n",
    "            return 'true'\n",
    "    return 'false'\n",
    "\n",
    "input = 'engineers rock'\n",
    "pattern = 'er'\n",
    "print (checkOrder(input,pattern))"
   ]
  },
  {
   "cell_type": "code",
   "execution_count": null,
   "id": "621a3799",
   "metadata": {},
   "outputs": [],
   "source": [
    "7.\tWrite a Python program to sort Python Dictionaries by Key or Value?"
   ]
  },
  {
   "cell_type": "code",
   "execution_count": 15,
   "id": "c2ab3b81",
   "metadata": {},
   "outputs": [
    {
     "name": "stdout",
     "output_type": "stream",
     "text": [
      "{'rajesh': 90, 'raviraj': 11, 'sanjay': 13, 'surjesh': 75, 'yash': 20}\n"
     ]
    }
   ],
   "source": [
    "Dict = {'raviraj': 11, 'rajesh': 90,\n",
    "        'sanjay': 13, 'yash': 20, 'surjesh': 75}\n",
    " \n",
    "Keys = list(Dict.keys())\n",
    "Keys.sort()\n",
    "sorted_dict = {i: Dict[i] for i in Keys}\n",
    " \n",
    "print(sorted_dict)"
   ]
  },
  {
   "cell_type": "code",
   "execution_count": null,
   "id": "ef04627f",
   "metadata": {},
   "outputs": [],
   "source": []
  },
  {
   "cell_type": "code",
   "execution_count": null,
   "id": "bd72f800",
   "metadata": {},
   "outputs": [],
   "source": []
  },
  {
   "cell_type": "code",
   "execution_count": null,
   "id": "05aead43",
   "metadata": {},
   "outputs": [],
   "source": []
  },
  {
   "cell_type": "code",
   "execution_count": null,
   "id": "9636c100",
   "metadata": {},
   "outputs": [],
   "source": []
  },
  {
   "cell_type": "code",
   "execution_count": null,
   "id": "4c038e4a",
   "metadata": {},
   "outputs": [],
   "source": []
  },
  {
   "cell_type": "code",
   "execution_count": null,
   "id": "8b587e04",
   "metadata": {},
   "outputs": [],
   "source": []
  },
  {
   "cell_type": "code",
   "execution_count": null,
   "id": "ee0d1bca",
   "metadata": {},
   "outputs": [],
   "source": []
  },
  {
   "cell_type": "code",
   "execution_count": null,
   "id": "0e0979da",
   "metadata": {},
   "outputs": [],
   "source": []
  },
  {
   "cell_type": "code",
   "execution_count": null,
   "id": "57c461ba",
   "metadata": {},
   "outputs": [],
   "source": []
  },
  {
   "cell_type": "code",
   "execution_count": null,
   "id": "f5bd10b9",
   "metadata": {},
   "outputs": [],
   "source": []
  },
  {
   "cell_type": "code",
   "execution_count": null,
   "id": "9e24c2f5",
   "metadata": {},
   "outputs": [],
   "source": []
  },
  {
   "cell_type": "code",
   "execution_count": null,
   "id": "0996072c",
   "metadata": {},
   "outputs": [],
   "source": []
  }
 ],
 "metadata": {
  "kernelspec": {
   "display_name": "Python 3 (ipykernel)",
   "language": "python",
   "name": "python3"
  },
  "language_info": {
   "codemirror_mode": {
    "name": "ipython",
    "version": 3
   },
   "file_extension": ".py",
   "mimetype": "text/x-python",
   "name": "python",
   "nbconvert_exporter": "python",
   "pygments_lexer": "ipython3",
   "version": "3.10.2"
  }
 },
 "nbformat": 4,
 "nbformat_minor": 5
}

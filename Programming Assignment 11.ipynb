{
 "cells": [
  {
   "cell_type": "code",
   "execution_count": null,
   "id": "ecbd9b7d",
   "metadata": {},
   "outputs": [],
   "source": [
    "1.\tWrite a Python program to find words which are greater than given length k?"
   ]
  },
  {
   "cell_type": "code",
   "execution_count": 1,
   "id": "f9c456e9",
   "metadata": {},
   "outputs": [
    {
     "name": "stdout",
     "output_type": "stream",
     "text": [
      "['ineuron', 'course']\n"
     ]
    }
   ],
   "source": [
    "sent = \"This is ineuron FSDS course\"\n",
    "length = 4\n",
    "print([word for word in sent.split() if len(word) > length])"
   ]
  },
  {
   "cell_type": "code",
   "execution_count": null,
   "id": "36cf47fd",
   "metadata": {},
   "outputs": [],
   "source": [
    "2.\tWrite a Python program for removing i-th character from a string?"
   ]
  },
  {
   "cell_type": "code",
   "execution_count": 3,
   "id": "0ae39010",
   "metadata": {},
   "outputs": [
    {
     "name": "stdout",
     "output_type": "stream",
     "text": [
      "corsenameisFSDS\n"
     ]
    }
   ],
   "source": [
    "def remove(string, i):\n",
    "  \n",
    "    for j in range(len(string)):\n",
    "        if j == i:\n",
    "            string = string.replace(string[i], \"\")\n",
    "    return string\n",
    "    \n",
    "string = \"coursenameisFSDS\"\n",
    "i=2\n",
    "print(remove(string, i))"
   ]
  },
  {
   "cell_type": "code",
   "execution_count": null,
   "id": "30aa8fc0",
   "metadata": {},
   "outputs": [],
   "source": [
    "3.\tWrite a Python program to split and join a string?"
   ]
  },
  {
   "cell_type": "code",
   "execution_count": 4,
   "id": "085ae150",
   "metadata": {},
   "outputs": [
    {
     "name": "stdout",
     "output_type": "stream",
     "text": [
      "['This', 'is', 'ineuron', 'FSDS', 'course']\n",
      "This-is-ineuron-FSDS-course\n"
     ]
    }
   ],
   "source": [
    "a = 'This is ineuron FSDS course'\n",
    "print(a.split(\" \"))\n",
    "print(\"-\".join(a.split()))"
   ]
  },
  {
   "cell_type": "code",
   "execution_count": null,
   "id": "af63d6a1",
   "metadata": {},
   "outputs": [],
   "source": [
    "4.\tWrite a Python to check if a given string is binary string or not?"
   ]
  },
  {
   "cell_type": "code",
   "execution_count": 5,
   "id": "3919ab7a",
   "metadata": {},
   "outputs": [
    {
     "name": "stdout",
     "output_type": "stream",
     "text": [
      "Yes\n"
     ]
    }
   ],
   "source": [
    "string = \"0101010100000000111111\"\n",
    "if(string.count('0')+string.count('1')==len(string)):\n",
    "    print(\"Yes\")\n",
    "else:\n",
    "    print(\"No\")"
   ]
  },
  {
   "cell_type": "code",
   "execution_count": null,
   "id": "29826880",
   "metadata": {},
   "outputs": [],
   "source": [
    "5.\tWrite a Python program to find uncommon words from two Strings?"
   ]
  },
  {
   "cell_type": "code",
   "execution_count": 6,
   "id": "fac94189",
   "metadata": {},
   "outputs": [
    {
     "name": "stdout",
     "output_type": "stream",
     "text": [
      "['2.0']\n"
     ]
    }
   ],
   "source": [
    "def Uncommon(A, B):\n",
    "    a=A.split()\n",
    "    b=B.split()\n",
    "    x=[]\n",
    "    for i in a:\n",
    "        if i not in b:\n",
    "            x.append(i)\n",
    "    for i in b:\n",
    "        if i not in a:\n",
    "            x.append(i)\n",
    "    x=list(set(x))\n",
    "    return x\n",
    "             \n",
    "\n",
    "A = \"This is ineuron FSDS course\"\n",
    "B = \"This is ineuron FSDS course 2.0\"\n",
    " \n",
    "print(Uncommon(A, B))"
   ]
  },
  {
   "cell_type": "code",
   "execution_count": null,
   "id": "b0a0e917",
   "metadata": {},
   "outputs": [],
   "source": [
    "6.\tWrite a Python to find all duplicate characters in string?"
   ]
  },
  {
   "cell_type": "code",
   "execution_count": 8,
   "id": "e670f66e",
   "metadata": {},
   "outputs": [
    {
     "name": "stdout",
     "output_type": "stream",
     "text": [
      "i\n",
      "n\n",
      "e\n",
      "u\n",
      "r\n",
      "o\n"
     ]
    }
   ],
   "source": [
    "from collections import Counter\n",
    " \n",
    " \n",
    "def find_dup_char(input):\n",
    "    C = Counter(input)\n",
    "    for letter, count in C.items():\n",
    "        if (count > 1):\n",
    "            print(letter)\n",
    " \n",
    "input = 'ineuronineuron'\n",
    "find_dup_char(input)"
   ]
  },
  {
   "cell_type": "code",
   "execution_count": null,
   "id": "1022ce65",
   "metadata": {},
   "outputs": [],
   "source": [
    "7.\tWrite a Python Program to check if a string contains any special character?"
   ]
  },
  {
   "cell_type": "code",
   "execution_count": 13,
   "id": "ebd4b167",
   "metadata": {},
   "outputs": [
    {
     "name": "stdout",
     "output_type": "stream",
     "text": [
      "['@', '%', '&']\n"
     ]
    }
   ],
   "source": [
    "l=['@','#','!','$','%','^','&','*']\n",
    "st='inuron@123%432&23'\n",
    "x=[]\n",
    "for i in st:\n",
    "    if i in l:\n",
    "        x.append(i)\n",
    "print(x)"
   ]
  },
  {
   "cell_type": "code",
   "execution_count": null,
   "id": "9b3742b0",
   "metadata": {},
   "outputs": [],
   "source": []
  },
  {
   "cell_type": "code",
   "execution_count": null,
   "id": "83bb267d",
   "metadata": {},
   "outputs": [],
   "source": []
  },
  {
   "cell_type": "code",
   "execution_count": null,
   "id": "36470415",
   "metadata": {},
   "outputs": [],
   "source": []
  },
  {
   "cell_type": "code",
   "execution_count": null,
   "id": "b1b5d4b4",
   "metadata": {},
   "outputs": [],
   "source": []
  },
  {
   "cell_type": "code",
   "execution_count": null,
   "id": "1a7c8b6d",
   "metadata": {},
   "outputs": [],
   "source": []
  }
 ],
 "metadata": {
  "kernelspec": {
   "display_name": "Python 3 (ipykernel)",
   "language": "python",
   "name": "python3"
  },
  "language_info": {
   "codemirror_mode": {
    "name": "ipython",
    "version": 3
   },
   "file_extension": ".py",
   "mimetype": "text/x-python",
   "name": "python",
   "nbconvert_exporter": "python",
   "pygments_lexer": "ipython3",
   "version": "3.10.2"
  }
 },
 "nbformat": 4,
 "nbformat_minor": 5
}

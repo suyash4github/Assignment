{
 "cells": [
  {
   "cell_type": "code",
   "execution_count": null,
   "id": "7e848637",
   "metadata": {},
   "outputs": [],
   "source": [
    "To what does a relative path refer?\n",
    "\n",
    "A relative path is a link that points to a file location on the page where the link is located"
   ]
  },
  {
   "cell_type": "code",
   "execution_count": null,
   "id": "1555630e",
   "metadata": {},
   "outputs": [],
   "source": [
    "What does an absolute path start with your operating system\n",
    "\n",
    "An absolute path always begins from the absolute start of your hard drive"
   ]
  },
  {
   "cell_type": "code",
   "execution_count": null,
   "id": "7f7722c5",
   "metadata": {},
   "outputs": [],
   "source": [
    "What do the functions os.getcwd() and os.chdir() do?\n",
    "\n",
    "getcwd() : CWD stands for Current Working Directory. This function allows you to see what your current\n",
    "working directory is. chdir(\"path-to-dir\") : Short for CHange DIRectory, this function allows you to set \n",
    "the current working directory to a path of your choice"
   ]
  },
  {
   "cell_type": "code",
   "execution_count": null,
   "id": "a1b04d28",
   "metadata": {},
   "outputs": [],
   "source": [
    "What are the . and .. folders?\n",
    "\n",
    "The . is the current directory, while .. signifies the parent directory."
   ]
  },
  {
   "cell_type": "code",
   "execution_count": null,
   "id": "83fde654",
   "metadata": {},
   "outputs": [],
   "source": [
    "In C:\\bacon\\eggs\\spam.txt, which part is the dir name, and which part is the base name?\n",
    "\n",
    "C:\\bacon\\eggs is the dir name, while spam. txt is the base name."
   ]
  },
  {
   "cell_type": "code",
   "execution_count": null,
   "id": "ba38b477",
   "metadata": {},
   "outputs": [],
   "source": [
    "What are the three “mode” arguments that can be passed to the open() function?\n",
    "\n",
    "r,r+,a"
   ]
  },
  {
   "cell_type": "code",
   "execution_count": null,
   "id": "451799e7",
   "metadata": {},
   "outputs": [],
   "source": [
    "What happens if an existing file is opened in write mode?\n",
    "\n",
    "the contents will be deleted before writing in existing file."
   ]
  },
  {
   "cell_type": "code",
   "execution_count": null,
   "id": "18bf1c89",
   "metadata": {},
   "outputs": [],
   "source": [
    "How do you tell the difference between read() and readlines()?\n",
    "\n",
    "The readlines() method returns a list containing each line in the file as a list item\n",
    "The read() will read the whole file at once and then print out the first characters that take up as\n",
    "many bytes as you specify in the parenthesis"
   ]
  },
  {
   "cell_type": "code",
   "execution_count": null,
   "id": "16817a9a",
   "metadata": {},
   "outputs": [],
   "source": [
    "What data structure does a shelf value resemble?\n",
    "\n",
    "dictionary value"
   ]
  },
  {
   "cell_type": "code",
   "execution_count": null,
   "id": "68f947fc",
   "metadata": {},
   "outputs": [],
   "source": []
  },
  {
   "cell_type": "code",
   "execution_count": null,
   "id": "3d0b3886",
   "metadata": {},
   "outputs": [],
   "source": []
  },
  {
   "cell_type": "code",
   "execution_count": null,
   "id": "5c63f44f",
   "metadata": {},
   "outputs": [],
   "source": []
  },
  {
   "cell_type": "code",
   "execution_count": null,
   "id": "3bd30e87",
   "metadata": {},
   "outputs": [],
   "source": []
  },
  {
   "cell_type": "code",
   "execution_count": null,
   "id": "ce651777",
   "metadata": {},
   "outputs": [],
   "source": []
  },
  {
   "cell_type": "code",
   "execution_count": null,
   "id": "4630285a",
   "metadata": {},
   "outputs": [],
   "source": []
  },
  {
   "cell_type": "code",
   "execution_count": null,
   "id": "52957a16",
   "metadata": {},
   "outputs": [],
   "source": []
  },
  {
   "cell_type": "code",
   "execution_count": null,
   "id": "cb9eac8e",
   "metadata": {},
   "outputs": [],
   "source": []
  },
  {
   "cell_type": "code",
   "execution_count": null,
   "id": "be16accb",
   "metadata": {},
   "outputs": [],
   "source": []
  },
  {
   "cell_type": "code",
   "execution_count": null,
   "id": "2f26114b",
   "metadata": {},
   "outputs": [],
   "source": []
  },
  {
   "cell_type": "code",
   "execution_count": null,
   "id": "b6ceb9dd",
   "metadata": {},
   "outputs": [],
   "source": []
  },
  {
   "cell_type": "code",
   "execution_count": null,
   "id": "a0fb8e4b",
   "metadata": {},
   "outputs": [],
   "source": []
  }
 ],
 "metadata": {
  "kernelspec": {
   "display_name": "Python 3 (ipykernel)",
   "language": "python",
   "name": "python3"
  },
  "language_info": {
   "codemirror_mode": {
    "name": "ipython",
    "version": 3
   },
   "file_extension": ".py",
   "mimetype": "text/x-python",
   "name": "python",
   "nbconvert_exporter": "python",
   "pygments_lexer": "ipython3",
   "version": "3.10.2"
  }
 },
 "nbformat": 4,
 "nbformat_minor": 5
}

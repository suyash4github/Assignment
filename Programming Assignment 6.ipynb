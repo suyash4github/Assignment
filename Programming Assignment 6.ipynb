{
 "cells": [
  {
   "cell_type": "code",
   "execution_count": null,
   "id": "72a63537",
   "metadata": {},
   "outputs": [],
   "source": [
    "1.Write a Python Program to Display Fibonacci Sequence Using Recursion?"
   ]
  },
  {
   "cell_type": "code",
   "execution_count": 4,
   "id": "de68b48c",
   "metadata": {},
   "outputs": [
    {
     "name": "stdout",
     "output_type": "stream",
     "text": [
      "enter n term10\n",
      "Fibonacci sequence:\n",
      "0\n",
      "1\n",
      "1\n",
      "2\n",
      "3\n",
      "5\n",
      "8\n",
      "13\n",
      "21\n",
      "34\n"
     ]
    }
   ],
   "source": [
    "\n",
    "\n",
    "def recur(n):\n",
    "   if n <= 1:\n",
    "       return n\n",
    "   else:\n",
    "       return(recur(n-1) + recur(n-2))\n",
    "    \n",
    "n = int(input('enter n term'))\n",
    "if n <= 0:\n",
    "   print(\"Plese enter a positive integer\")\n",
    "else:\n",
    "   print(\"Fibonacci sequence:\")\n",
    "   for i in range(n):\n",
    "       print(recur(i))"
   ]
  },
  {
   "cell_type": "code",
   "execution_count": null,
   "id": "637528e9",
   "metadata": {},
   "outputs": [],
   "source": [
    "2.\tWrite a Python Program to Find Factorial of Number Using Recursion?"
   ]
  },
  {
   "cell_type": "code",
   "execution_count": 7,
   "id": "dbcd861f",
   "metadata": {},
   "outputs": [
    {
     "name": "stdout",
     "output_type": "stream",
     "text": [
      "no: 5\n",
      "The factorial of 5 is 120\n"
     ]
    }
   ],
   "source": [
    "def recur_fact(n):\n",
    "   if n == 1:\n",
    "       return n\n",
    "   else:\n",
    "       return n*recur_fact(n-1)\n",
    "\n",
    "no = int(input('no: '))\n",
    "if no < 0:\n",
    "   print(\"Sorry, factorial does not exist for negative numbers\")\n",
    "elif no == 0:\n",
    "   print(\"The factorial of 0 is 1\")\n",
    "else:\n",
    "   print(\"The factorial of\", no, \"is\", recur_fact(no))"
   ]
  },
  {
   "cell_type": "code",
   "execution_count": null,
   "id": "5a20d423",
   "metadata": {},
   "outputs": [],
   "source": [
    "3.\tWrite a Python Program to calculate your Body Mass Index?"
   ]
  },
  {
   "cell_type": "code",
   "execution_count": 9,
   "id": "7acbdded",
   "metadata": {},
   "outputs": [
    {
     "name": "stdout",
     "output_type": "stream",
     "text": [
      "Enter your height in cm: 165\n",
      "Enter your weight in kg: 60\n",
      "You BMI is 22.03856749311295\n"
     ]
    }
   ],
   "source": [
    "height = float(input(\"Enter your height in cm: \")) \n",
    "weight = float(input(\"Enter your weight in kg: \"))\n",
    "BMI = weight / (height/100)**2.\n",
    "print(f\"You BMI is {BMI}\")"
   ]
  },
  {
   "cell_type": "code",
   "execution_count": null,
   "id": "e1654ed4",
   "metadata": {},
   "outputs": [],
   "source": [
    "4.\tWrite a Python Program to calculate the natural logarithm of any number?"
   ]
  },
  {
   "cell_type": "code",
   "execution_count": 11,
   "id": "cc4b56ff",
   "metadata": {},
   "outputs": [
    {
     "name": "stdout",
     "output_type": "stream",
     "text": [
      "Enter the number: 3\n",
      "The value is: 1.0986122886681098\n"
     ]
    }
   ],
   "source": [
    "import math\n",
    "\n",
    "no = int(input(\"Enter the number: \"))\n",
    "\n",
    "value = math.log(no)\n",
    "\n",
    "print(\"The value is:\",value)"
   ]
  },
  {
   "cell_type": "code",
   "execution_count": null,
   "id": "7ce4e0c5",
   "metadata": {},
   "outputs": [],
   "source": [
    "5.\tWrite a Python Program for cube sum of first n natural numbers?"
   ]
  },
  {
   "cell_type": "code",
   "execution_count": 13,
   "id": "727d83ee",
   "metadata": {},
   "outputs": [
    {
     "name": "stdout",
     "output_type": "stream",
     "text": [
      "no: 2\n",
      "9\n"
     ]
    }
   ],
   "source": [
    "def sum(n):\n",
    "   sum = 0\n",
    "   for i in range(1, n+1):\n",
    "      sum +=i*i*i\n",
    "   return sum\n",
    "\n",
    "n = int(input('no: '))\n",
    "print(sum(n))"
   ]
  },
  {
   "cell_type": "code",
   "execution_count": null,
   "id": "27b7b33f",
   "metadata": {},
   "outputs": [],
   "source": []
  },
  {
   "cell_type": "code",
   "execution_count": null,
   "id": "84539756",
   "metadata": {},
   "outputs": [],
   "source": []
  },
  {
   "cell_type": "code",
   "execution_count": null,
   "id": "bd486e48",
   "metadata": {},
   "outputs": [],
   "source": []
  },
  {
   "cell_type": "code",
   "execution_count": null,
   "id": "81633b43",
   "metadata": {},
   "outputs": [],
   "source": []
  },
  {
   "cell_type": "code",
   "execution_count": null,
   "id": "65f04936",
   "metadata": {},
   "outputs": [],
   "source": []
  },
  {
   "cell_type": "code",
   "execution_count": null,
   "id": "f54e13be",
   "metadata": {},
   "outputs": [],
   "source": []
  },
  {
   "cell_type": "code",
   "execution_count": null,
   "id": "5c40cd05",
   "metadata": {},
   "outputs": [],
   "source": []
  },
  {
   "cell_type": "code",
   "execution_count": null,
   "id": "91d249c6",
   "metadata": {},
   "outputs": [],
   "source": []
  }
 ],
 "metadata": {
  "kernelspec": {
   "display_name": "Python 3 (ipykernel)",
   "language": "python",
   "name": "python3"
  },
  "language_info": {
   "codemirror_mode": {
    "name": "ipython",
    "version": 3
   },
   "file_extension": ".py",
   "mimetype": "text/x-python",
   "name": "python",
   "nbconvert_exporter": "python",
   "pygments_lexer": "ipython3",
   "version": "3.10.2"
  }
 },
 "nbformat": 4,
 "nbformat_minor": 5
}

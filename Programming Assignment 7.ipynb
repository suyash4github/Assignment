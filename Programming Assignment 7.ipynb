{
 "cells": [
  {
   "cell_type": "code",
   "execution_count": null,
   "id": "3a6f4b3c",
   "metadata": {},
   "outputs": [],
   "source": [
    "1.\tWrite a Python Program to Add Two Matrices?"
   ]
  },
  {
   "cell_type": "code",
   "execution_count": 1,
   "id": "cf9da5ab",
   "metadata": {},
   "outputs": [
    {
     "name": "stdout",
     "output_type": "stream",
     "text": [
      "[6, 6, 4]\n",
      "[10, 8, 8]\n",
      "[11, 15, 12]\n"
     ]
    }
   ],
   "source": [
    "\n",
    "X = [[1,2,3],\n",
    "    [4 ,4,6],\n",
    "    [7 ,9,9]]\n",
    "\n",
    "Y = [[5,4,1],\n",
    "    [6,4,2],\n",
    "    [4,6,3]]\n",
    "\n",
    "result = [[0,0,0],\n",
    "         [0,0,0],\n",
    "         [0,0,0]]\n",
    "\n",
    "for i in range(len(X)):\n",
    "   for j in range(len(X[0])):\n",
    "       result[i][j] = X[i][j] + Y[i][j]\n",
    "\n",
    "for r in result:\n",
    "   print(r)"
   ]
  },
  {
   "cell_type": "code",
   "execution_count": null,
   "id": "b60cf41a",
   "metadata": {},
   "outputs": [],
   "source": [
    "2.\tWrite a Python Program to Multiply Two Matrices?"
   ]
  },
  {
   "cell_type": "code",
   "execution_count": 2,
   "id": "f6e2144b",
   "metadata": {},
   "outputs": [
    {
     "name": "stdout",
     "output_type": "stream",
     "text": [
      "[29, 30, 14]\n",
      "[68, 68, 30]\n",
      "[125, 118, 52]\n"
     ]
    }
   ],
   "source": [
    "X = [[1,2,3],\n",
    "    [4 ,4,6],\n",
    "    [7 ,9,9]]\n",
    "\n",
    "Y = [[5,4,1],\n",
    "    [6,4,2],\n",
    "    [4,6,3]]\n",
    "\n",
    "result = [[0,0,0],\n",
    "         [0,0,0],\n",
    "         [0,0,0]]\n",
    "for i in range(len(X)):\n",
    "   for j in range(len(Y[0])):\n",
    "       for k in range(len(Y)):\n",
    "           result[i][j] += X[i][k] * Y[k][j]\n",
    "\n",
    "for r in result:\n",
    "   print(r)"
   ]
  },
  {
   "cell_type": "code",
   "execution_count": null,
   "id": "3dae8b27",
   "metadata": {},
   "outputs": [],
   "source": [
    "3.\tWrite a Python Program to Transpose a Matrix?"
   ]
  },
  {
   "cell_type": "code",
   "execution_count": 3,
   "id": "d48e9ba8",
   "metadata": {},
   "outputs": [
    {
     "name": "stdout",
     "output_type": "stream",
     "text": [
      "[2, 4, 4]\n",
      "[5, 6, 8]\n"
     ]
    }
   ],
   "source": [
    "X = [[2,5],\n",
    "    [4 ,6],\n",
    "    [4 ,8]]\n",
    "\n",
    "result = [[0,0,0],\n",
    "         [0,0,0]]\n",
    "for i in range(len(X)):\n",
    "   for j in range(len(X[0])):\n",
    "       result[j][i] = X[i][j]\n",
    "\n",
    "for r in result:\n",
    "   print(r)"
   ]
  },
  {
   "cell_type": "code",
   "execution_count": null,
   "id": "1acbb077",
   "metadata": {},
   "outputs": [],
   "source": [
    "4.\tWrite a Python Program to Sort Words in Alphabetic Order?"
   ]
  },
  {
   "cell_type": "code",
   "execution_count": 4,
   "id": "bd3ca809",
   "metadata": {},
   "outputs": [
    {
     "name": "stdout",
     "output_type": "stream",
     "text": [
      "Enter a string: hi this is a programme\n",
      "The sorted words are:\n",
      "a\n",
      "hi\n",
      "is\n",
      "programme\n",
      "this\n"
     ]
    }
   ],
   "source": [
    "line = input(\"Enter a string: \")\n",
    "\n",
    "\n",
    "l = [word.lower() for word in line.split()]\n",
    "\n",
    "\n",
    "l.sort()\n",
    "\n",
    "print(\"The sorted words are:\")\n",
    "for word in l:\n",
    "   print(word)"
   ]
  },
  {
   "cell_type": "code",
   "execution_count": null,
   "id": "4394034c",
   "metadata": {},
   "outputs": [],
   "source": [
    "5.\tWrite a Python Program to Remove Punctuation From a String?"
   ]
  },
  {
   "cell_type": "code",
   "execution_count": 5,
   "id": "e17c71d1",
   "metadata": {},
   "outputs": [
    {
     "name": "stdout",
     "output_type": "stream",
     "text": [
      "Enter a string: hi ' kcjewiows *\n",
      "hi  kcjewiows \n"
     ]
    }
   ],
   "source": [
    "\n",
    "punctuations = '''!()-[]{};:'\"\\,<>./?@#$%^&*_~'''\n",
    "\n",
    "line = input(\"Enter a string: \")\n",
    "\n",
    "no_punct = \"\"\n",
    "for char in line:\n",
    "   if char not in punctuations:\n",
    "       no_punct = no_punct + char\n",
    "\n",
    "print(no_punct)"
   ]
  },
  {
   "cell_type": "code",
   "execution_count": null,
   "id": "2cf6bff8",
   "metadata": {},
   "outputs": [],
   "source": []
  },
  {
   "cell_type": "code",
   "execution_count": null,
   "id": "8c84cf35",
   "metadata": {},
   "outputs": [],
   "source": []
  },
  {
   "cell_type": "code",
   "execution_count": null,
   "id": "09f12e8f",
   "metadata": {},
   "outputs": [],
   "source": []
  },
  {
   "cell_type": "code",
   "execution_count": null,
   "id": "86075067",
   "metadata": {},
   "outputs": [],
   "source": []
  },
  {
   "cell_type": "code",
   "execution_count": null,
   "id": "9fa9325e",
   "metadata": {},
   "outputs": [],
   "source": []
  },
  {
   "cell_type": "code",
   "execution_count": null,
   "id": "8c9e5ecd",
   "metadata": {},
   "outputs": [],
   "source": []
  },
  {
   "cell_type": "code",
   "execution_count": null,
   "id": "3bd5139e",
   "metadata": {},
   "outputs": [],
   "source": []
  },
  {
   "cell_type": "code",
   "execution_count": null,
   "id": "e828f449",
   "metadata": {},
   "outputs": [],
   "source": []
  },
  {
   "cell_type": "code",
   "execution_count": null,
   "id": "871cb6f4",
   "metadata": {},
   "outputs": [],
   "source": []
  },
  {
   "cell_type": "code",
   "execution_count": null,
   "id": "9cd30823",
   "metadata": {},
   "outputs": [],
   "source": []
  }
 ],
 "metadata": {
  "kernelspec": {
   "display_name": "Python 3 (ipykernel)",
   "language": "python",
   "name": "python3"
  },
  "language_info": {
   "codemirror_mode": {
    "name": "ipython",
    "version": 3
   },
   "file_extension": ".py",
   "mimetype": "text/x-python",
   "name": "python",
   "nbconvert_exporter": "python",
   "pygments_lexer": "ipython3",
   "version": "3.10.2"
  }
 },
 "nbformat": 4,
 "nbformat_minor": 5
}
